{
 "cells": [
  {
   "cell_type": "markdown",
   "metadata": {},
   "source": [
    "# Curso: Aprendizaje Automático\n",
    "# Tarea2 - Tutorial Pandas\n",
    "## Alonso Nuñez Sanchez\n",
    "## Fecha de entrega: 29 julio 2019\n",
    "# ---------------------------------------------"
   ]
  },
  {
   "cell_type": "markdown",
   "metadata": {},
   "source": [
    "Pandas es una librería de Phyton usada para manejo de estructuras de datos. A continuación veremos cómo utilizar algunas de sus funciones, operadores, etc.\n",
    "En la primera parte de este tutorial trabajamos con un dataFrame pequeño (menos de 10 filas) para presentar ejemplos básicos\n",
    "En la segunda parte, después de cargar un dataset mayor (más de 20.000 instancias), pondremos en práctica algunos de los conceptos de la primera parte"
   ]
  },
  {
   "cell_type": "markdown",
   "metadata": {},
   "source": [
    "### Importar dependencias:"
   ]
  },
  {
   "cell_type": "code",
   "execution_count": 1,
   "metadata": {},
   "outputs": [],
   "source": [
    "import numpy as np\n",
    "import pandas as pd"
   ]
  },
  {
   "cell_type": "markdown",
   "metadata": {},
   "source": [
    "# PRIMERA PARTE DEL TUTORIAL"
   ]
  },
  {
   "cell_type": "markdown",
   "metadata": {},
   "source": [
    "### Estructuras de datos"
   ]
  },
  {
   "cell_type": "code",
   "execution_count": 2,
   "metadata": {},
   "outputs": [
    {
     "name": "stdout",
     "output_type": "stream",
     "text": [
      "Ejemplo series:\n",
      " 1        Rojo\n",
      "2        Azul\n",
      "3      Blanco\n",
      "4       Negro\n",
      "5    Amarillo\n",
      "6       Verde\n",
      "7      Morado\n",
      "dtype: object \n",
      "\n",
      "Ejemplo data_frame:\n",
      "     Nombre  Edad      Departamento  Salario\n",
      "0     Jose    32      Contabilidad     1500\n",
      "1    Pedro    55  Recursos Humanos     1800\n",
      "2    David    20    Administración      500\n",
      "3     Luis    43          Sistemas     3500\n",
      "4  Antonio    30          Mercadeo     2000\n"
     ]
    }
   ],
   "source": [
    "#DataFrames y Series\n",
    "#Una serie es una estructura unidimensional (1 columna)\n",
    "#Un DataFrame es una estructura multidimensional (n columnas)\n",
    "\n",
    "#Crear una serie \"manualmente\"\n",
    "colores = pd.Series(['Rojo', 'Azul', 'Blanco', 'Negro', 'Amarillo', 'Verde', 'Morado'],\n",
    "index = [1, 2, 3, 4, 5, 6, 7])  #los índices se pueden nombrar a gusto\n",
    "\n",
    "#Crear una dataFrame \"manualmente\"\n",
    "empleados1 = {'Nombre' : ['Jose', 'Pedro', 'David', 'Luis', 'Antonio'],\n",
    "          'Edad' : [32, 55, 20, 43, 30],\n",
    "          'Departamento' : ['Contabilidad', 'Recursos Humanos', 'Administración', 'Sistemas', 'Mercadeo'],\n",
    "          'Salario' : [1500, 1800, 500, 3500, 2000]}          \n",
    "         \n",
    "empleados1_df = pd.DataFrame(empleados1)\n",
    "\n",
    "print (\"Ejemplo series:\\n\",colores,\"\\n\")\n",
    "print (\"Ejemplo data_frame:\\n\",empleados1_df)\n"
   ]
  },
  {
   "cell_type": "code",
   "execution_count": 3,
   "metadata": {},
   "outputs": [
    {
     "name": "stdout",
     "output_type": "stream",
     "text": [
      "Ejemplo concatenar data_frame:\n",
      "     Nombre  Edad      Departamento  Salario Direccion  Cedula  Vacaciones\n",
      "0     Jose    32      Contabilidad     1500   Cartago    1234          16\n",
      "1    Pedro    55  Recursos Humanos     1800     Limon    3215           8\n",
      "2    David    20    Administración      500  Alajuela    6742          23\n",
      "3     Luis    43          Sistemas     3500   Heredia    9854           4\n",
      "4  Antonio    30          Mercadeo     2000  San Jose    4321           5\n"
     ]
    }
   ],
   "source": [
    "#Concatenar 2 dataframes:\n",
    "empleados2 = {'Direccion' : ['Cartago', 'Limon', 'Alajuela', 'Heredia', 'San Jose'],\n",
    "          'Cedula' : [1234, 3215, 6742, 9854, 4321],          \n",
    "          'Vacaciones' : [16, 8, 23, 4, 5]}          \n",
    "         \n",
    "empleados2_df = pd.DataFrame(empleados2)\n",
    "empleados3_df = pd.concat([empleados1_df, empleados2_df], axis=1,)\n",
    "\n",
    "print (\"Ejemplo concatenar data_frame:\\n\",empleados3_df)"
   ]
  },
  {
   "cell_type": "markdown",
   "metadata": {},
   "source": [
    "### Acceder a los índices"
   ]
  },
  {
   "cell_type": "markdown",
   "metadata": {},
   "source": [
    "Hay varias formas de tener acceso al contenido del dataFrame\n",
    "Algunas a continuación\n",
    "\n",
    "Primeras n filas (head) y últimas n filas (tail)"
   ]
  },
  {
   "cell_type": "code",
   "execution_count": 4,
   "metadata": {
    "scrolled": true
   },
   "outputs": [
    {
     "name": "stdout",
     "output_type": "stream",
     "text": [
      "Primeras filas:\n",
      "  Nombre  Edad      Departamento  Salario Direccion  Cedula  Vacaciones\n",
      "0   Jose    32      Contabilidad     1500   Cartago    1234          16\n",
      "1  Pedro    55  Recursos Humanos     1800     Limon    3215           8\n",
      "\n",
      "Ultimas filas:\n",
      "    Nombre  Edad Departamento  Salario Direccion  Cedula  Vacaciones\n",
      "3     Luis    43     Sistemas     3500   Heredia    9854           4\n",
      "4  Antonio    30     Mercadeo     2000  San Jose    4321           5\n"
     ]
    }
   ],
   "source": [
    "#imprimir las primeras n filas (5 es el default)\n",
    "print (\"Primeras filas:\")\n",
    "print (empleados3_df.head(2))\n",
    "\n",
    "print (\"\\nUltimas filas:\")\n",
    "#imprimir las últimas n filas (5 es el default)\n",
    "print (empleados3_df.tail(2))"
   ]
  },
  {
   "cell_type": "markdown",
   "metadata": {},
   "source": [
    "Acceso por índices, algunas a continuación:"
   ]
  },
  {
   "cell_type": "code",
   "execution_count": 5,
   "metadata": {},
   "outputs": [
    {
     "name": "stdout",
     "output_type": "stream",
     "text": [
      "El último [-1:]:\n",
      "     Nombre  Edad Departamento  Salario Direccion  Cedula  Vacaciones\n",
      "4  Antonio    30     Mercadeo     2000  San Jose    4321           5\n",
      "\n",
      "Rango [0:2]:\n",
      "   Nombre  Edad      Departamento  Salario Direccion  Cedula  Vacaciones\n",
      "0   Jose    32      Contabilidad     1500   Cartago    1234          16\n",
      "1  Pedro    55  Recursos Humanos     1800     Limon    3215           8\n",
      "\n",
      "Rango [2:3]\n",
      "   Nombre  Edad    Departamento  Salario Direccion  Cedula  Vacaciones\n",
      "2  David    20  Administración      500  Alajuela    6742          23\n",
      "\n",
      "Por etiqueta, cuando El Nombre es igual a Luis:\n",
      "   Nombre  Edad Departamento  Salario Direccion  Cedula  Vacaciones\n",
      "3   Luis    43     Sistemas     3500   Heredia    9854           4\n"
     ]
    }
   ],
   "source": [
    "# Por índice específico [n], [-1:] para el último, [-2:] para los 2 últimos, [-n] para los n últimos\n",
    "print(\"El último [-1:]:\\n\", empleados3_df[-1:])\n",
    "\n",
    "# Por rangos (del índice 0 al 2)\n",
    "print(\"\\nRango [0:2]:\\n\", empleados3_df[0:2])\n",
    "\n",
    "# Por rangos (del índice 2 al 3)\n",
    "print(\"\\nRango [2:3]\\n\", empleados3_df[2:3])\n",
    "\n",
    "# Por condición y etiquetas\n",
    "print (\"\\nPor etiqueta, cuando El Nombre es igual a Luis:\\n\", empleados3_df.loc[empleados3_df['Nombre'] == 'Luis'])\n",
    "\n",
    "\n"
   ]
  },
  {
   "cell_type": "markdown",
   "metadata": {},
   "source": [
    "### Insertar filas. En el ejemplo, un nuevo empleado en el indice 5 y 6"
   ]
  },
  {
   "cell_type": "code",
   "execution_count": 6,
   "metadata": {},
   "outputs": [
    {
     "data": {
      "text/html": [
       "<div>\n",
       "<style scoped>\n",
       "    .dataframe tbody tr th:only-of-type {\n",
       "        vertical-align: middle;\n",
       "    }\n",
       "\n",
       "    .dataframe tbody tr th {\n",
       "        vertical-align: top;\n",
       "    }\n",
       "\n",
       "    .dataframe thead th {\n",
       "        text-align: right;\n",
       "    }\n",
       "</style>\n",
       "<table border=\"1\" class=\"dataframe\">\n",
       "  <thead>\n",
       "    <tr style=\"text-align: right;\">\n",
       "      <th></th>\n",
       "      <th>Nombre</th>\n",
       "      <th>Edad</th>\n",
       "      <th>Departamento</th>\n",
       "      <th>Salario</th>\n",
       "      <th>Direccion</th>\n",
       "      <th>Cedula</th>\n",
       "      <th>Vacaciones</th>\n",
       "    </tr>\n",
       "  </thead>\n",
       "  <tbody>\n",
       "    <tr>\n",
       "      <th>0</th>\n",
       "      <td>Jose</td>\n",
       "      <td>32</td>\n",
       "      <td>Contabilidad</td>\n",
       "      <td>1500</td>\n",
       "      <td>Cartago</td>\n",
       "      <td>1234</td>\n",
       "      <td>16</td>\n",
       "    </tr>\n",
       "    <tr>\n",
       "      <th>1</th>\n",
       "      <td>Pedro</td>\n",
       "      <td>55</td>\n",
       "      <td>Recursos Humanos</td>\n",
       "      <td>1800</td>\n",
       "      <td>Limon</td>\n",
       "      <td>3215</td>\n",
       "      <td>8</td>\n",
       "    </tr>\n",
       "    <tr>\n",
       "      <th>2</th>\n",
       "      <td>David</td>\n",
       "      <td>20</td>\n",
       "      <td>Administración</td>\n",
       "      <td>500</td>\n",
       "      <td>Alajuela</td>\n",
       "      <td>6742</td>\n",
       "      <td>23</td>\n",
       "    </tr>\n",
       "    <tr>\n",
       "      <th>3</th>\n",
       "      <td>Luis</td>\n",
       "      <td>43</td>\n",
       "      <td>Sistemas</td>\n",
       "      <td>3500</td>\n",
       "      <td>Heredia</td>\n",
       "      <td>9854</td>\n",
       "      <td>4</td>\n",
       "    </tr>\n",
       "    <tr>\n",
       "      <th>4</th>\n",
       "      <td>Antonio</td>\n",
       "      <td>30</td>\n",
       "      <td>Mercadeo</td>\n",
       "      <td>2000</td>\n",
       "      <td>San Jose</td>\n",
       "      <td>4321</td>\n",
       "      <td>5</td>\n",
       "    </tr>\n",
       "    <tr>\n",
       "      <th>5</th>\n",
       "      <td>Fernando</td>\n",
       "      <td>24</td>\n",
       "      <td>Ingenieria</td>\n",
       "      <td>1750</td>\n",
       "      <td>Cartago</td>\n",
       "      <td>2541</td>\n",
       "      <td>0</td>\n",
       "    </tr>\n",
       "    <tr>\n",
       "      <th>6</th>\n",
       "      <td>Fernando</td>\n",
       "      <td>24</td>\n",
       "      <td>Ingenieria</td>\n",
       "      <td>1750</td>\n",
       "      <td>Cartago</td>\n",
       "      <td>2541</td>\n",
       "      <td>0</td>\n",
       "    </tr>\n",
       "  </tbody>\n",
       "</table>\n",
       "</div>"
      ],
      "text/plain": [
       "     Nombre Edad      Departamento Salario Direccion Cedula Vacaciones\n",
       "0      Jose   32      Contabilidad    1500   Cartago   1234         16\n",
       "1     Pedro   55  Recursos Humanos    1800     Limon   3215          8\n",
       "2     David   20    Administración     500  Alajuela   6742         23\n",
       "3      Luis   43          Sistemas    3500   Heredia   9854          4\n",
       "4   Antonio   30          Mercadeo    2000  San Jose   4321          5\n",
       "5  Fernando   24        Ingenieria    1750   Cartago   2541          0\n",
       "6  Fernando   24        Ingenieria    1750   Cartago   2541          0"
      ]
     },
     "execution_count": 6,
     "metadata": {},
     "output_type": "execute_result"
    }
   ],
   "source": [
    "empleados3_df.loc[5] = ['Fernando', '24', 'Ingenieria', '1750', 'Cartago', '2541','0']\n",
    "empleados3_df.loc[6] = ['Fernando', '24', 'Ingenieria', '1750', 'Cartago', '2541','0']\n",
    "empleados3_df"
   ]
  },
  {
   "cell_type": "markdown",
   "metadata": {},
   "source": [
    "### Eliminar datos"
   ]
  },
  {
   "cell_type": "code",
   "execution_count": 7,
   "metadata": {},
   "outputs": [
    {
     "name": "stdout",
     "output_type": "stream",
     "text": [
      "DataFrame antes de eliminar datos\n",
      "      Nombre Edad      Departamento Salario Direccion Cedula Vacaciones\n",
      "0      Jose   32      Contabilidad    1500   Cartago   1234         16\n",
      "1     Pedro   55  Recursos Humanos    1800     Limon   3215          8\n",
      "2     David   20    Administración     500  Alajuela   6742         23\n",
      "3      Luis   43          Sistemas    3500   Heredia   9854          4\n",
      "4   Antonio   30          Mercadeo    2000  San Jose   4321          5\n",
      "5  Fernando   24        Ingenieria    1750   Cartago   2541          0\n",
      "6  Fernando   24        Ingenieria    1750   Cartago   2541          0\n",
      "\n",
      "¿Hay filas duplicadas?\n",
      "\n",
      "0    False\n",
      "1    False\n",
      "2    False\n",
      "3    False\n",
      "4    False\n",
      "5    False\n",
      "6     True\n",
      "dtype: bool\n",
      "\n",
      "DataFrame después de eliminar duplicados\n",
      "      Nombre Edad      Departamento Salario Direccion Cedula Vacaciones\n",
      "0      Jose   32      Contabilidad    1500   Cartago   1234         16\n",
      "1     Pedro   55  Recursos Humanos    1800     Limon   3215          8\n",
      "2     David   20    Administración     500  Alajuela   6742         23\n",
      "3      Luis   43          Sistemas    3500   Heredia   9854          4\n",
      "4   Antonio   30          Mercadeo    2000  San Jose   4321          5\n",
      "5  Fernando   24        Ingenieria    1750   Cartago   2541          0\n",
      "\n",
      "DataFrame después de eliminar duplicados en columna Direccion\n",
      "     Nombre Edad      Departamento Salario Direccion Cedula Vacaciones\n",
      "0     Jose   32      Contabilidad    1500   Cartago   1234         16\n",
      "1    Pedro   55  Recursos Humanos    1800     Limon   3215          8\n",
      "2    David   20    Administración     500  Alajuela   6742         23\n",
      "3     Luis   43          Sistemas    3500   Heredia   9854          4\n",
      "4  Antonio   30          Mercadeo    2000  San Jose   4321          5\n",
      "\n",
      "DataFrame después de eliminar la columna Vacaciones\n",
      "     Nombre Edad      Departamento Salario Direccion Cedula\n",
      "0     Jose   32      Contabilidad    1500   Cartago   1234\n",
      "1    Pedro   55  Recursos Humanos    1800     Limon   3215\n",
      "2    David   20    Administración     500  Alajuela   6742\n",
      "3     Luis   43          Sistemas    3500   Heredia   9854\n",
      "4  Antonio   30          Mercadeo    2000  San Jose   4321\n"
     ]
    },
    {
     "data": {
      "text/html": [
       "<div>\n",
       "<style scoped>\n",
       "    .dataframe tbody tr th:only-of-type {\n",
       "        vertical-align: middle;\n",
       "    }\n",
       "\n",
       "    .dataframe tbody tr th {\n",
       "        vertical-align: top;\n",
       "    }\n",
       "\n",
       "    .dataframe thead th {\n",
       "        text-align: right;\n",
       "    }\n",
       "</style>\n",
       "<table border=\"1\" class=\"dataframe\">\n",
       "  <thead>\n",
       "    <tr style=\"text-align: right;\">\n",
       "      <th></th>\n",
       "      <th>Nombre</th>\n",
       "      <th>Edad</th>\n",
       "      <th>Departamento</th>\n",
       "      <th>Salario</th>\n",
       "      <th>Direccion</th>\n",
       "      <th>Cedula</th>\n",
       "    </tr>\n",
       "  </thead>\n",
       "  <tbody>\n",
       "    <tr>\n",
       "      <th>0</th>\n",
       "      <td>Jose</td>\n",
       "      <td>32</td>\n",
       "      <td>Contabilidad</td>\n",
       "      <td>1500</td>\n",
       "      <td>Cartago</td>\n",
       "      <td>1234</td>\n",
       "    </tr>\n",
       "    <tr>\n",
       "      <th>1</th>\n",
       "      <td>Pedro</td>\n",
       "      <td>55</td>\n",
       "      <td>Recursos Humanos</td>\n",
       "      <td>1800</td>\n",
       "      <td>Limon</td>\n",
       "      <td>3215</td>\n",
       "    </tr>\n",
       "    <tr>\n",
       "      <th>2</th>\n",
       "      <td>David</td>\n",
       "      <td>20</td>\n",
       "      <td>Administración</td>\n",
       "      <td>500</td>\n",
       "      <td>Alajuela</td>\n",
       "      <td>6742</td>\n",
       "    </tr>\n",
       "    <tr>\n",
       "      <th>3</th>\n",
       "      <td>Luis</td>\n",
       "      <td>43</td>\n",
       "      <td>Sistemas</td>\n",
       "      <td>3500</td>\n",
       "      <td>Heredia</td>\n",
       "      <td>9854</td>\n",
       "    </tr>\n",
       "    <tr>\n",
       "      <th>4</th>\n",
       "      <td>Antonio</td>\n",
       "      <td>30</td>\n",
       "      <td>Mercadeo</td>\n",
       "      <td>2000</td>\n",
       "      <td>San Jose</td>\n",
       "      <td>4321</td>\n",
       "    </tr>\n",
       "  </tbody>\n",
       "</table>\n",
       "</div>"
      ],
      "text/plain": [
       "    Nombre Edad      Departamento Salario Direccion Cedula\n",
       "0     Jose   32      Contabilidad    1500   Cartago   1234\n",
       "1    Pedro   55  Recursos Humanos    1800     Limon   3215\n",
       "2    David   20    Administración     500  Alajuela   6742\n",
       "3     Luis   43          Sistemas    3500   Heredia   9854\n",
       "4  Antonio   30          Mercadeo    2000  San Jose   4321"
      ]
     },
     "execution_count": 7,
     "metadata": {},
     "output_type": "execute_result"
    }
   ],
   "source": [
    "print (\"DataFrame antes de eliminar datos\\n\", empleados3_df)\n",
    "\n",
    "#conocer duplicados\n",
    "print (\"\\n¿Hay filas duplicadas?\\n\")\n",
    "print(empleados3_df.duplicated())\n",
    "\n",
    "#eliminar duplicados\n",
    "empleados3_df = empleados3_df.drop_duplicates()\n",
    "print (\"\\nDataFrame después de eliminar duplicados\\n\", empleados3_df)\n",
    "\n",
    "#duplicados por columna\n",
    "empleados3_df = empleados3_df.drop_duplicates(['Direccion'])\n",
    "print (\"\\nDataFrame después de eliminar duplicados en columna Direccion\\n\", empleados3_df)\n",
    "\n",
    "#eliminar columna\n",
    "empleados3_df = empleados3_df.drop(['Vacaciones'], axis=1)\n",
    "print (\"\\nDataFrame después de eliminar la columna Vacaciones\\n\", empleados3_df)\n",
    "\n",
    "empleados3_df\n",
    "\n",
    "#Otros drop:\n",
    "#eliminar fila\n",
    "#empleados3_df.drop([0])\n",
    "\n",
    "#eliminar rango de filas\n",
    "##empleados3_df.drop(#empleados3_df.index[[0, 1]])\n",
    "\n",
    "#eliminar ultima fila\n",
    "##empleados3_df.drop(df.index[-1])\n"
   ]
  },
  {
   "cell_type": "markdown",
   "metadata": {},
   "source": [
    "### Tipos de datos"
   ]
  },
  {
   "cell_type": "code",
   "execution_count": 8,
   "metadata": {},
   "outputs": [
    {
     "name": "stdout",
     "output_type": "stream",
     "text": [
      "Tipos de datos antes de cambiarlos:\n",
      " Nombre          object\n",
      "Edad            object\n",
      "Departamento    object\n",
      "Salario         object\n",
      "Direccion       object\n",
      "Cedula          object\n",
      "dtype: object\n",
      "\n",
      "Tipos de datos después de cambiarlos:\n",
      " Nombre          object\n",
      "Edad            object\n",
      "Departamento    object\n",
      "Salario          int32\n",
      "Direccion       object\n",
      "Cedula          object\n",
      "dtype: object\n"
     ]
    }
   ],
   "source": [
    "#conocer tipos\n",
    "print (\"Tipos de datos antes de cambiarlos:\\n\",empleados3_df.dtypes)\n",
    "\n",
    "#cambiar tipos\n",
    "empleados3_df.Salario = empleados3_df.Salario.astype(int)\n",
    "\n",
    "print (\"\\nTipos de datos después de cambiarlos:\\n\",empleados3_df.dtypes)"
   ]
  },
  {
   "cell_type": "markdown",
   "metadata": {},
   "source": [
    "### Ordenar datos"
   ]
  },
  {
   "cell_type": "code",
   "execution_count": 9,
   "metadata": {},
   "outputs": [
    {
     "name": "stdout",
     "output_type": "stream",
     "text": [
      "Ordenar por Nombre ascendente:\n",
      "     Nombre Edad      Departamento  Salario Direccion Cedula\n",
      "4  Antonio   30          Mercadeo     2000  San Jose   4321\n",
      "2    David   20    Administración      500  Alajuela   6742\n",
      "0     Jose   32      Contabilidad     1500   Cartago   1234\n",
      "3     Luis   43          Sistemas     3500   Heredia   9854\n",
      "1    Pedro   55  Recursos Humanos     1800     Limon   3215\n",
      "\n",
      "Ordenar por Salario de mayor a menor:\n",
      "     Nombre Edad      Departamento  Salario Direccion Cedula\n",
      "3     Luis   43          Sistemas     3500   Heredia   9854\n",
      "4  Antonio   30          Mercadeo     2000  San Jose   4321\n",
      "1    Pedro   55  Recursos Humanos     1800     Limon   3215\n",
      "0     Jose   32      Contabilidad     1500   Cartago   1234\n",
      "2    David   20    Administración      500  Alajuela   6742\n"
     ]
    }
   ],
   "source": [
    "#ordenar por nombre de forma ascendente:\n",
    "print (\"Ordenar por Nombre ascendente:\\n\", empleados3_df.sort_values(by=['Nombre']))\n",
    "\n",
    "#ordenar por nombre de forma descendente:\n",
    "print (\"\\nOrdenar por Salario de mayor a menor:\\n\", empleados3_df.sort_values(by=['Salario'], ascending=False))"
   ]
  },
  {
   "cell_type": "markdown",
   "metadata": {},
   "source": [
    "# SEGUNDA PARTE DEL TUTORIAL"
   ]
  },
  {
   "cell_type": "markdown",
   "metadata": {},
   "source": [
    "### Importar datos desde archivo .csv"
   ]
  },
  {
   "cell_type": "code",
   "execution_count": 10,
   "metadata": {},
   "outputs": [
    {
     "name": "stdout",
     "output_type": "stream",
     "text": [
      "listo!!\n"
     ]
    }
   ],
   "source": [
    "# usando la función read_csv\n",
    "# indicando que la columna 0 contiene los indices\n",
    "# carga un dataset con los resultados de los finalistas en la Maraton de Boston 2017\n",
    "df = pd.read_csv('https://raw.githubusercontent.com/anunezcr/datasets/master/marathon_results_2017.csv', index_col = 0)\n",
    "print (\"listo!!\")"
   ]
  },
  {
   "cell_type": "code",
   "execution_count": 11,
   "metadata": {},
   "outputs": [
    {
     "data": {
      "text/plain": [
       "(26410, 24)"
      ]
     },
     "execution_count": 11,
     "metadata": {},
     "output_type": "execute_result"
    }
   ],
   "source": [
    "# .shape indica la forma del DataFrame (filas y columnas)\n",
    "df.shape"
   ]
  },
  {
   "cell_type": "code",
   "execution_count": 12,
   "metadata": {},
   "outputs": [
    {
     "name": "stdout",
     "output_type": "stream",
     "text": [
      "  Bib                Name  Age M/F              City State Country Citizen  \\\n",
      "0  11     Kirui, Geoffrey   24   M          Keringet   NaN     KEN     NaN   \n",
      "1  17         Rupp, Galen   30   M          Portland    OR     USA     NaN   \n",
      "2  23       Osako, Suguru   25   M      Machida-City   NaN     JPN     NaN   \n",
      "3  21    Biwott, Shadrack   32   M     Mammoth Lakes    CA     USA     NaN   \n",
      "4   9      Chebet, Wilson   31   M          Marakwet   NaN     KEN     NaN   \n",
      "5  15    Abdirahman, Abdi   40   M           Phoenix    AZ     USA     NaN   \n",
      "6  63  Maiyo, Augustus K.   33   M  Colorado Springs    CO     USA     NaN   \n",
      "7   7         Sefir, Dino   28   M       Addis Ababa   NaN     ETH     NaN   \n",
      "8  18      Puskedra, Luke   27   M            Eugene    OR     USA     NaN   \n",
      "9  20         Ward, Jared   28   M         Kaysville    UT     USA     NaN   \n",
      "\n",
      "  Unnamed: 9       5K  ...      25K      30K      35K      40K     Pace  \\\n",
      "0        NaN  0:15:25  ...  1:16:59  1:33:01  1:48:19  2:02:53  0:04:57   \n",
      "1        NaN  0:15:24  ...  1:16:59  1:33:01  1:48:19  2:03:14  0:04:58   \n",
      "2        NaN  0:15:25  ...  1:17:00  1:33:01  1:48:31  2:03:38  0:04:59   \n",
      "3        NaN  0:15:25  ...  1:17:00  1:33:01  1:48:58  2:04:35  0:05:03   \n",
      "4        NaN  0:15:25  ...  1:16:59  1:33:01  1:48:41  2:05:00  0:05:04   \n",
      "5        NaN  0:15:25  ...  1:16:59  1:33:01  1:48:52  2:05:21  0:05:04   \n",
      "6        NaN  0:15:25  ...  1:17:00  1:33:01  1:49:06  2:05:41  0:05:05   \n",
      "7        NaN  0:15:24  ...  1:18:36  1:34:52  1:51:11  2:07:09  0:05:08   \n",
      "8        NaN  0:15:24  ...  1:17:26  1:34:05  1:50:53  2:07:17  0:05:09   \n",
      "9        NaN  0:15:25  ...  1:17:17  1:33:49  1:50:44  2:07:54  0:05:11   \n",
      "\n",
      "  Proj Time Official Time Overall Gender Division  \n",
      "0         -       2:09:37       1      1        1  \n",
      "1         -       2:09:58       2      2        2  \n",
      "2         -       2:10:28       3      3        3  \n",
      "3         -       2:12:08       4      4        4  \n",
      "4         -       2:12:35       5      5        5  \n",
      "5         -       2:12:45       6      6        1  \n",
      "6         -       2:13:16       7      7        6  \n",
      "7         -       2:14:26       8      8        7  \n",
      "8         -       2:14:45       9      9        8  \n",
      "9         -       2:15:28      10     10        9  \n",
      "\n",
      "[10 rows x 24 columns]\n"
     ]
    }
   ],
   "source": [
    "#top 10 en la clasificación general\n",
    "print (df.head(10))"
   ]
  },
  {
   "cell_type": "markdown",
   "metadata": {},
   "source": [
    "### Reducir las 24 columnas solo a las que nos interesa para el ejemplo"
   ]
  },
  {
   "cell_type": "code",
   "execution_count": 13,
   "metadata": {},
   "outputs": [
    {
     "name": "stdout",
     "output_type": "stream",
     "text": [
      "  Bib                Name  Age M/F Country Official Time  Overall\n",
      "0  11     Kirui, Geoffrey   24   M     KEN       2:09:37        1\n",
      "1  17         Rupp, Galen   30   M     USA       2:09:58        2\n",
      "2  23       Osako, Suguru   25   M     JPN       2:10:28        3\n",
      "3  21    Biwott, Shadrack   32   M     USA       2:12:08        4\n",
      "4   9      Chebet, Wilson   31   M     KEN       2:12:35        5\n",
      "5  15    Abdirahman, Abdi   40   M     USA       2:12:45        6\n",
      "6  63  Maiyo, Augustus K.   33   M     USA       2:13:16        7\n",
      "7   7         Sefir, Dino   28   M     ETH       2:14:26        8\n",
      "8  18      Puskedra, Luke   27   M     USA       2:14:45        9\n",
      "9  20         Ward, Jared   28   M     USA       2:15:28       10\n"
     ]
    }
   ],
   "source": [
    "cols_to_use = ['Bib', 'Name', 'Age','M/F','Country', 'Official Time', 'Overall']\n",
    "df = df[cols_to_use]\n",
    "print (df.head(10))\n"
   ]
  },
  {
   "cell_type": "markdown",
   "metadata": {},
   "source": [
    "### Valida cantidad de nulos y ceros por columna, para medir la calidad de los datos (después de haber filtrado solo las columnas de interés)"
   ]
  },
  {
   "cell_type": "code",
   "execution_count": 14,
   "metadata": {},
   "outputs": [
    {
     "name": "stdout",
     "output_type": "stream",
     "text": [
      "Ceros por columna:\n",
      "Bib              0\n",
      "Name             0\n",
      "Age              0\n",
      "M/F              0\n",
      "Country          0\n",
      "Official Time    0\n",
      "Overall          0\n",
      "dtype: int64\n",
      "\n",
      "Nulos por columna:\n",
      "Bib              0\n",
      "Name             0\n",
      "Age              0\n",
      "M/F              0\n",
      "Country          0\n",
      "Official Time    0\n",
      "Overall          0\n",
      "dtype: int64\n"
     ]
    }
   ],
   "source": [
    "print(\"Ceros por columna:\")\n",
    "print((df == 0).astype(int).sum())\n",
    "print(\"\\nNulos por columna:\")\n",
    "print(df.isnull().sum())"
   ]
  },
  {
   "cell_type": "markdown",
   "metadata": {},
   "source": [
    "### Resumen de estadísticas del dataFrame"
   ]
  },
  {
   "cell_type": "code",
   "execution_count": 15,
   "metadata": {},
   "outputs": [
    {
     "name": "stdout",
     "output_type": "stream",
     "text": [
      "                Age       Overall\n",
      "count  26410.000000  26410.000000\n",
      "mean      42.587732  13206.260091\n",
      "std       11.419467   7624.370496\n",
      "min       18.000000      1.000000\n",
      "25%       34.000000   6604.250000\n",
      "50%       43.000000  13206.500000\n",
      "75%       51.000000  19808.750000\n",
      "max       84.000000  26411.000000\n"
     ]
    }
   ],
   "source": [
    "print(df.describe())"
   ]
  },
  {
   "cell_type": "code",
   "execution_count": 16,
   "metadata": {},
   "outputs": [
    {
     "name": "stdout",
     "output_type": "stream",
     "text": [
      "La menor edad es: 18\n",
      "La mayor edad es: 84\n",
      "La media de la edad es: 42.587731919727375\n",
      "La mediana de la edad es: 43.0\n"
     ]
    }
   ],
   "source": [
    "from statistics import mean, median\n",
    "# algunos datos sobre la edad de los participantes:\n",
    "\n",
    "print (\"La menor edad es:\", min(df.Age))\n",
    "print (\"La mayor edad es:\", max(df.Age))\n",
    "print (\"La media de la edad es:\", mean(df.Age))\n",
    "print (\"La mediana de la edad es:\", median(df.Age))"
   ]
  },
  {
   "cell_type": "markdown",
   "metadata": {},
   "source": [
    "### Mostrar los corredores de menor y mayor edad (de entre todos los participantes)"
   ]
  },
  {
   "cell_type": "code",
   "execution_count": 17,
   "metadata": {},
   "outputs": [
    {
     "name": "stdout",
     "output_type": "stream",
     "text": [
      "Corredores de menor edad:\n",
      "          Bib                  Name  Age M/F Country Official Time  Overall\n",
      "3748    5220     Eastmond, Riley J   18   M     USA       3:15:20     3749\n",
      "4084    3603           Fickes, Ben   18   M     USA       3:17:16     4085\n",
      "4735    4496         Moore, Ryan D   18   M     USA       3:20:23     4736\n",
      "5443   27556       Umphrey, Duncan   18   M     USA       3:23:44     5444\n",
      "7377    4083          Nelson, Alex   18   M     USA       3:31:22     7379\n",
      "8432   29072        Rezuke, Joseph   18   M     USA       3:35:16     8434\n",
      "15919  15125        Rucker, Alyssa   18   F     USA       4:01:22    15921\n",
      "15931  30496    Pohl, Elizabeth S.   18   F     USA       4:01:25    15933\n",
      "16499  30146        Canzano, James   18   M     USA       4:04:06    16501\n",
      "17735  26356       Fried, Lucas A.   18   M     USA       4:10:23    17737\n",
      "18487  28294     Georgaklis, Sofia   18   F     USA       4:14:12    18489\n",
      "21575  30213          Joy, Ryan A.   18   M     USA       4:34:40    21577\n",
      "22054  27702   Canfield, Hallie F.   18   F     USA       4:38:46    22056\n",
      "22410  30098     Cohen, Natalie G.   18   F     USA       4:42:36    22412\n",
      "22938  28542      Blake, Meghan E.   18   F     USA       4:47:48    22940\n",
      "23251  27454     Mahoney, Tyler S.   18   F     USA       4:51:25    23253\n",
      "23371  27688  Pushner, Jennifer L.   18   F     USA       4:53:04    23373\n",
      "24323  25291     Tiberi, Sophia C.   18   F     USA       5:06:07    24325\n",
      "25459  25946  Waring, Elizabeth L.   18   F     USA       5:29:31    25461\n",
      "26328  30353   MacDonald, Grace C.   18   F     USA       6:03:14    26330\n",
      "\n",
      "Corredores de mayor edad:\n",
      "          Bib               Name  Age M/F Country Official Time  Overall\n",
      "26340  25269  Beiers, Katherine   84   F     USA       6:04:07    26342\n"
     ]
    }
   ],
   "source": [
    "print (\"Corredores de menor edad:\\n\", df.loc[df['Age'] == min(df.Age)])\n",
    "print (\"\\nCorredores de mayor edad:\\n\", df.loc[df['Age'] == max(df.Age)])"
   ]
  },
  {
   "cell_type": "markdown",
   "metadata": {},
   "source": [
    "### Mostrar los corredores costarricenses, filtros y ordenamiento de datos"
   ]
  },
  {
   "cell_type": "code",
   "execution_count": 18,
   "metadata": {},
   "outputs": [
    {
     "name": "stdout",
     "output_type": "stream",
     "text": [
      "Top 10 hombres costarricenses:\n",
      "        Bib                            Name  Age M/F Country Official Time  \\\n",
      "289    947                  Lazo, Reynaldo   35   M     CRC       2:43:54   \n",
      "307    915            Zuniga Ruiz, Esteban   31   M     CRC       2:44:25   \n",
      "430   1310            Bolanos, Antonio Sr.   27   M     CRC       2:47:16   \n",
      "487   2125         Fernández Jiménez, Luis   32   M     CRC       2:48:27   \n",
      "678   1536  Melendez, Carlos Manuel M. Sr.   38   M     CRC       2:51:45   \n",
      "749    904               Castro, Sebastian   31   M     CRC       2:52:51   \n",
      "783   2260       Mena Solorzano, Diego Sr.   34   M     CRC       2:53:17   \n",
      "1063   342          Serrano Ulloa, Abraham   24   M     CRC       2:56:50   \n",
      "1065  1947                  Weinstok, Leon   32   M     CRC       2:56:50   \n",
      "1374  3418      Ramires Arguedas, Geovanni   45   M     CRC       2:59:23   \n",
      "\n",
      "      Overall  \n",
      "289       290  \n",
      "307       308  \n",
      "430       431  \n",
      "487       488  \n",
      "678       679  \n",
      "749       750  \n",
      "783       784  \n",
      "1063     1064  \n",
      "1065     1066  \n",
      "1374     1375  \n",
      "\n",
      "Top 10 mujeres costarricenses:\n",
      "         Bib                       Name  Age M/F Country Official Time  Overall\n",
      "1623   3684   Bogantes Gonzalez, Diana   28   F     CRC       3:01:46     1624\n",
      "1644   8379          Corazzari, Andrea   38   F     CRC       3:01:56     1645\n",
      "2854   2961     Herra Arroyo, Gabriela   37   F     CRC       3:10:12     2855\n",
      "3070   4537      Miranda, Ana Catalina   41   F     CRC       3:11:27     3071\n",
      "3366  11280               Marin, Laura   39   F     CRC       3:13:23     3367\n",
      "3448   7177           Carazo, Gloriana   25   F     CRC       3:13:48     3449\n",
      "4426   5874       Hernandez, Elizabeth   35   F     CRC       3:18:58     4427\n",
      "5009  17392          Acuña, Ivannia C.   36   F     CRC       3:21:39     5010\n",
      "6200  10845        Santillan, Laura C.   26   F     CRC       3:26:47     6201\n",
      "6525  12702  Calderon Jimenez, Natalia   26   F     CRC       3:28:02     6527\n",
      "\n",
      "10 costarricenses de menor edad:\n",
      "         Bib                       Name  Age M/F Country Official Time  Overall\n",
      "1063    342     Serrano Ulloa, Abraham   24   M     CRC       2:56:50     1064\n",
      "3448   7177           Carazo, Gloriana   25   F     CRC       3:13:48     3449\n",
      "6200  10845        Santillan, Laura C.   26   F     CRC       3:26:47     6201\n",
      "6525  12702  Calderon Jimenez, Natalia   26   F     CRC       3:28:02     6527\n",
      "430    1310       Bolanos, Antonio Sr.   27   M     CRC       2:47:16      431\n",
      "5258   5822       Gutierrez, Alejandro   27   M     CRC       3:22:52     5259\n",
      "1623   3684   Bogantes Gonzalez, Diana   28   F     CRC       3:01:46     1624\n",
      "2826   3579    Carvajal Brenes, Andres   29   M     CRC       3:10:01     2827\n",
      "307     915       Zuniga Ruiz, Esteban   31   M     CRC       2:44:25      308\n",
      "749     904          Castro, Sebastian   31   M     CRC       2:52:51      750\n",
      "\n",
      "10 costarricenses de mayor edad:\n",
      "          Bib                         Name  Age M/F Country Official Time  \\\n",
      "14269  22891               Arce, Eleonora   48   F     CRC       3:55:14   \n",
      "19521  23229     Rojas Saborio, Ingrid M.   50   F     CRC       4:19:57   \n",
      "15739  12333              Aguero, Jose F.   50   M     CRC       4:00:28   \n",
      "21083  14427  Hidalgo Gallegos, Francisco   53   M     CRC       4:30:25   \n",
      "19243  18546   Vargas Solano, Oscar Mario   55   M     CRC       4:18:19   \n",
      "13121  12451         Carazo, Marco E. Sr.   55   M     CRC       3:51:19   \n",
      "18168  24360               Vives, Marcela   60   F     CRC       4:12:26   \n",
      "10045  12250             Rodriguez, Mario   60   M     CRC       3:41:05   \n",
      "24391  31168             Castro, Bernardo   62   M     CRC       5:07:10   \n",
      "20784  24085       Cruz Castillo, Joaquin   73   M     CRC       4:28:21   \n",
      "\n",
      "       Overall  \n",
      "14269    14271  \n",
      "19521    19523  \n",
      "15739    15741  \n",
      "21083    21085  \n",
      "19243    19245  \n",
      "13121    13123  \n",
      "18168    18170  \n",
      "10045    10047  \n",
      "24391    24393  \n",
      "20784    20786  \n"
     ]
    }
   ],
   "source": [
    "#filtrar los corredores costarricenses, condición en country para el data frame original:\n",
    "#crea un nuevo dataframe (df_CRC) con el resultado\n",
    "df_CRC = df.loc[df['Country'] == 'CRC']\n",
    "\n",
    "#filtrar los costarricenses hombres, condición en la característica M/F (M= masculino, F= femenino)\n",
    "df_CRC_M = df_CRC.loc[df_CRC['M/F'] == 'M']\n",
    "\n",
    "#filtrar los costarricenses mujeres\n",
    "df_CRC_F = df_CRC.loc[df_CRC['M/F'] == 'F']\n",
    "\n",
    "#ordenar por nombre de forma ascendente según posición:\n",
    "print (\"Top 10 hombres costarricenses:\\n\", df_CRC_M.sort_values(by=['Overall']).head(10))\n",
    "print (\"\\nTop 10 mujeres costarricenses:\\n\", df_CRC_F.sort_values(by=['Overall']).head(10))\n",
    "\n",
    "#Mostrar los 10 corredores costarricenses de menor edad\n",
    "print (\"\\n10 costarricenses de menor edad:\\n\", df_CRC.sort_values(by=['Age']).head(10))\n",
    "\n",
    "#Mostrar los 10 corredores costarricenses de mayor edad\n",
    "print (\"\\n10 costarricenses de mayor edad:\\n\", df_CRC.sort_values(by=['Age']).tail(10))\n",
    "\n",
    "\n"
   ]
  },
  {
   "cell_type": "code",
   "execution_count": null,
   "metadata": {},
   "outputs": [],
   "source": []
  }
 ],
 "metadata": {
  "kernelspec": {
   "display_name": "Python 3",
   "language": "python",
   "name": "python3"
  },
  "language_info": {
   "codemirror_mode": {
    "name": "ipython",
    "version": 3
   },
   "file_extension": ".py",
   "mimetype": "text/x-python",
   "name": "python",
   "nbconvert_exporter": "python",
   "pygments_lexer": "ipython3",
   "version": "3.7.3"
  }
 },
 "nbformat": 4,
 "nbformat_minor": 2
}
